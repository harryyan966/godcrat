{
 "cells": [
  {
   "cell_type": "markdown",
   "metadata": {},
   "source": [
    "# Godview\n",
    "\n",
    "Prerequisite:\n",
    "- knowing all possible labels\n",
    "- knowing everything that happened and will happen in the video for every frame\n",
    "- knowing the meanings of all labels."
   ]
  },
  {
   "cell_type": "code",
   "execution_count": 1,
   "metadata": {},
   "outputs": [
    {
     "data": {
      "text/plain": [
       "<module 'godutils' from '/Users/yx/Documents/pro/crat/godcrat/godutils.py'>"
      ]
     },
     "execution_count": 1,
     "metadata": {},
     "output_type": "execute_result"
    }
   ],
   "source": [
    "import numpy as np\n",
    "import pandas as pd\n",
    "\n",
    "import cratutils as u\n",
    "import godutils as g\n",
    "\n",
    "import importlib\n",
    "importlib.reload(u)\n",
    "importlib.reload(g)"
   ]
  },
  {
   "cell_type": "markdown",
   "metadata": {},
   "source": [
    "Videos is a map of filename to list\n",
    "\n",
    "Each list represents a video (list of frames)\n",
    "\n",
    "Each frame is a dataframe of agent information\n",
    "\n",
    "`Map<String, List<DataFrame>> video;`"
   ]
  },
  {
   "cell_type": "code",
   "execution_count": 2,
   "metadata": {},
   "outputs": [],
   "source": [
    "# # Run this only once\n",
    "# u.WriteRawDataToCache(includeInvalid=True)"
   ]
  },
  {
   "cell_type": "code",
   "execution_count": 3,
   "metadata": {},
   "outputs": [],
   "source": [
    "videos = u.GetCachedRawVideos()"
   ]
  },
  {
   "cell_type": "code",
   "execution_count": 6,
   "metadata": {},
   "outputs": [
    {
     "data": {
      "text/html": [
       "<div>\n",
       "<style scoped>\n",
       "    .dataframe tbody tr th:only-of-type {\n",
       "        vertical-align: middle;\n",
       "    }\n",
       "\n",
       "    .dataframe tbody tr th {\n",
       "        vertical-align: top;\n",
       "    }\n",
       "\n",
       "    .dataframe thead th {\n",
       "        text-align: right;\n",
       "    }\n",
       "</style>\n",
       "<table border=\"1\" class=\"dataframe\">\n",
       "  <thead>\n",
       "    <tr style=\"text-align: right;\">\n",
       "      <th></th>\n",
       "      <th>TIMESTAMP</th>\n",
       "      <th>TRACK_ID</th>\n",
       "      <th>OBJECT_TYPE</th>\n",
       "      <th>X</th>\n",
       "      <th>Y</th>\n",
       "      <th>V_X</th>\n",
       "      <th>V_Y</th>\n",
       "      <th>A_X</th>\n",
       "      <th>A_Y</th>\n",
       "      <th>YAW</th>\n",
       "      <th>DYAW</th>\n",
       "      <th>DDYAW</th>\n",
       "      <th>first_class</th>\n",
       "      <th>second_class</th>\n",
       "      <th>third_class</th>\n",
       "      <th>fileName</th>\n",
       "    </tr>\n",
       "  </thead>\n",
       "  <tbody>\n",
       "    <tr>\n",
       "      <th>518898</th>\n",
       "      <td>1.630377e+09</td>\n",
       "      <td>ego</td>\n",
       "      <td>0</td>\n",
       "      <td>0.000000</td>\n",
       "      <td>0.000000</td>\n",
       "      <td>-0.066663</td>\n",
       "      <td>10.075352</td>\n",
       "      <td>-0.273077</td>\n",
       "      <td>0.041434</td>\n",
       "      <td>0.000000</td>\n",
       "      <td>1.718444</td>\n",
       "      <td>-0.313116</td>\n",
       "      <td>0</td>\n",
       "      <td>0</td>\n",
       "      <td>1</td>\n",
       "      <td>0.csv</td>\n",
       "    </tr>\n",
       "    <tr>\n",
       "      <th>518899</th>\n",
       "      <td>1.630377e+09</td>\n",
       "      <td>scene-000000-1</td>\n",
       "      <td>2</td>\n",
       "      <td>-3.956840</td>\n",
       "      <td>2.794453</td>\n",
       "      <td>-0.316424</td>\n",
       "      <td>17.446817</td>\n",
       "      <td>0.267046</td>\n",
       "      <td>0.178962</td>\n",
       "      <td>1.522354</td>\n",
       "      <td>-0.888693</td>\n",
       "      <td>-1.126752</td>\n",
       "      <td>0</td>\n",
       "      <td>0</td>\n",
       "      <td>1</td>\n",
       "      <td>0.csv</td>\n",
       "    </tr>\n",
       "    <tr>\n",
       "      <th>518900</th>\n",
       "      <td>1.630377e+09</td>\n",
       "      <td>scene-000000-2</td>\n",
       "      <td>2</td>\n",
       "      <td>-0.133549</td>\n",
       "      <td>-16.591239</td>\n",
       "      <td>0.300762</td>\n",
       "      <td>10.282932</td>\n",
       "      <td>-0.347223</td>\n",
       "      <td>0.073741</td>\n",
       "      <td>356.251778</td>\n",
       "      <td>6.214802</td>\n",
       "      <td>-4.810373</td>\n",
       "      <td>0</td>\n",
       "      <td>0</td>\n",
       "      <td>1</td>\n",
       "      <td>0.csv</td>\n",
       "    </tr>\n",
       "    <tr>\n",
       "      <th>518901</th>\n",
       "      <td>1.630377e+09</td>\n",
       "      <td>scene-000000-3</td>\n",
       "      <td>2</td>\n",
       "      <td>-4.378153</td>\n",
       "      <td>27.572297</td>\n",
       "      <td>-0.966180</td>\n",
       "      <td>16.985848</td>\n",
       "      <td>1.258668</td>\n",
       "      <td>-0.300079</td>\n",
       "      <td>2.690841</td>\n",
       "      <td>-0.663327</td>\n",
       "      <td>2.067720</td>\n",
       "      <td>0</td>\n",
       "      <td>0</td>\n",
       "      <td>1</td>\n",
       "      <td>0.csv</td>\n",
       "    </tr>\n",
       "    <tr>\n",
       "      <th>518902</th>\n",
       "      <td>1.630377e+09</td>\n",
       "      <td>scene-000000-4</td>\n",
       "      <td>2</td>\n",
       "      <td>-2.816514</td>\n",
       "      <td>-24.751882</td>\n",
       "      <td>-0.320676</td>\n",
       "      <td>15.035509</td>\n",
       "      <td>0.581560</td>\n",
       "      <td>-0.243673</td>\n",
       "      <td>1.445300</td>\n",
       "      <td>1.827755</td>\n",
       "      <td>-0.423362</td>\n",
       "      <td>0</td>\n",
       "      <td>0</td>\n",
       "      <td>1</td>\n",
       "      <td>0.csv</td>\n",
       "    </tr>\n",
       "  </tbody>\n",
       "</table>\n",
       "</div>"
      ],
      "text/plain": [
       "           TIMESTAMP        TRACK_ID  OBJECT_TYPE         X          Y  \\\n",
       "518898  1.630377e+09             ego            0  0.000000   0.000000   \n",
       "518899  1.630377e+09  scene-000000-1            2 -3.956840   2.794453   \n",
       "518900  1.630377e+09  scene-000000-2            2 -0.133549 -16.591239   \n",
       "518901  1.630377e+09  scene-000000-3            2 -4.378153  27.572297   \n",
       "518902  1.630377e+09  scene-000000-4            2 -2.816514 -24.751882   \n",
       "\n",
       "             V_X        V_Y       A_X       A_Y         YAW      DYAW  \\\n",
       "518898 -0.066663  10.075352 -0.273077  0.041434    0.000000  1.718444   \n",
       "518899 -0.316424  17.446817  0.267046  0.178962    1.522354 -0.888693   \n",
       "518900  0.300762  10.282932 -0.347223  0.073741  356.251778  6.214802   \n",
       "518901 -0.966180  16.985848  1.258668 -0.300079    2.690841 -0.663327   \n",
       "518902 -0.320676  15.035509  0.581560 -0.243673    1.445300  1.827755   \n",
       "\n",
       "           DDYAW  first_class  second_class  third_class fileName  \n",
       "518898 -0.313116            0             0            1    0.csv  \n",
       "518899 -1.126752            0             0            1    0.csv  \n",
       "518900 -4.810373            0             0            1    0.csv  \n",
       "518901  2.067720            0             0            1    0.csv  \n",
       "518902 -0.423362            0             0            1    0.csv  "
      ]
     },
     "execution_count": 6,
     "metadata": {},
     "output_type": "execute_result"
    }
   ],
   "source": [
    "importlib.reload(u)\n",
    "videos['0.csv'][0].head()"
   ]
  },
  {
   "cell_type": "code",
   "execution_count": 166,
   "metadata": {},
   "outputs": [
    {
     "name": "stdout",
     "output_type": "stream",
     "text": [
      "1.1.5 LeadVehicleStppoed\n",
      "False\n",
      "True\n",
      "9.9.9 Invalid\n"
     ]
    },
    {
     "data": {
      "image/png": "[encoded data removed]",
      "text/plain": [
       "<Figure size 2400x1000 with 1 Axes>"
      ]
     },
     "metadata": {},
     "output_type": "display_data"
    }
   ],
   "source": [
    "importlib.reload(u)\n",
    "importlib.reload(g)\n",
    "\n",
    "file = '2.csv'\n",
    "ti = 0\n",
    "\n",
    "\n",
    "vid = g.Trajectories(videos[file])\n",
    "lbs = u.GetTrueLabels(file)\n",
    "label = lbs[ti]\n",
    "\n",
    "# print label\n",
    "try: print(u.thirdClassNames[label])\n",
    "except: print(\"INVALID\")\n",
    "\n",
    "# print what you need\n",
    "slf: g.Agent = vid.getAgentByCode(ti, 8)\n",
    "ego: g.Agent = vid.getEgo(ti+15)\n",
    "dx = slf.x - ego.x; dy = slf.y - ego.y\n",
    "p = [\n",
    "    # dx,dy,\n",
    "    slf.isLeadingDirectly(ego),\n",
    "    slf.matchAnchorAsLeading(ego),\n",
    "    u.thirdClassNames[g.ClassifyInLaneFrame(ti, vid)],\n",
    "    # list(map(lambda a:a.id, vid.getNonEgoAgents(ti)))\n",
    "    # videos[file][ti].drop(columns=['TIMESTAMP'])\n",
    "]\n",
    "for pi in p: print(pi)\n",
    "\n",
    "# plot situation\n",
    "vid.plot(ti, extra=[ego], greenOnly=0, a=1, bigA=False, ysize=120, dpi=80, onlyCars=True)"
   ]
  },
  {
   "cell_type": "code",
   "execution_count": null,
   "metadata": {},
   "outputs": [],
   "source": []
  },
  {
   "cell_type": "code",
   "execution_count": null,
   "metadata": {},
   "outputs": [],
   "source": []
  },
  {
   "cell_type": "code",
   "execution_count": 118,
   "metadata": {},
   "outputs": [
    {
     "data": {
      "text/plain": [
       "0     True\n",
       "1    False\n",
       "2     True\n",
       "dtype: bool"
      ]
     },
     "execution_count": 118,
     "metadata": {},
     "output_type": "execute_result"
    }
   ],
   "source": [
    "a = pd.Series(['apple', 'lemon', 'mango'])\n",
    "a.apply(lambda x : 'a' in x)"
   ]
  },
  {
   "cell_type": "code",
   "execution_count": null,
   "metadata": {},
   "outputs": [],
   "source": []
  }
 ],
 "metadata": {
  "kernelspec": {
   "display_name": "crat",
   "language": "python",
   "name": "python3"
  },
  "language_info": {
   "codemirror_mode": {
    "name": "ipython",
    "version": 3
   },
   "file_extension": ".py",
   "mimetype": "text/x-python",
   "name": "python",
   "nbconvert_exporter": "python",
   "pygments_lexer": "ipython3",
   "version": "3.12.4"
  }
 },
 "nbformat": 4,
 "nbformat_minor": 2
}
